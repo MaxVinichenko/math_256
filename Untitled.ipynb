{
 "cells": [
  {
   "cell_type": "markdown",
   "id": "c6aa6f50-63a0-4bf8-97db-2f8322506bc9",
   "metadata": {},
   "source": [
    "# Python Assignment 2: Plotting Solutions and Slope Fields"
   ]
  },
  {
   "cell_type": "code",
   "execution_count": null,
   "id": "d3701c39-3a93-4f24-8b64-68e69d886e8b",
   "metadata": {},
   "outputs": [],
   "source": []
  }
 ],
 "metadata": {
  "kernelspec": {
   "display_name": "Python 3 (ipykernel)",
   "language": "python",
   "name": "python3"
  },
  "language_info": {
   "codemirror_mode": {
    "name": "ipython",
    "version": 3
   },
   "file_extension": ".py",
   "mimetype": "text/x-python",
   "name": "python",
   "nbconvert_exporter": "python",
   "pygments_lexer": "ipython3",
   "version": "3.12.8"
  }
 },
 "nbformat": 4,
 "nbformat_minor": 5
}
